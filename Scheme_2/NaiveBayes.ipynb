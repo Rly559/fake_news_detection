{
 "cells": [
  {
   "cell_type": "code",
   "execution_count": 1,
   "metadata": {},
   "outputs": [],
   "source": [
    "from dataload import preprocess"
   ]
  },
  {
   "cell_type": "code",
   "execution_count": 2,
   "metadata": {},
   "outputs": [
    {
     "name": "stdout",
     "output_type": "stream",
     "text": [
      "正在数据集删除空数据并分词....\n"
     ]
    },
    {
     "name": "stderr",
     "output_type": "stream",
     "text": [
      "Building prefix dict from the default dictionary ...\n",
      "Loading model from cache C:\\Users\\zrypz\\AppData\\Local\\Temp\\jieba.cache\n",
      "Loading model cost 0.761 seconds.\n",
      "Prefix dict has been built successfully.\n"
     ]
    },
    {
     "name": "stdout",
     "output_type": "stream",
     "text": [
      "正在删除测试集空数据并分词....\n"
     ]
    }
   ],
   "source": [
    "pre=preprocess()\n",
    "dataset,testset=pre.preprocessingdata_news()\n",
    "dataset_str,testset_str,labelset=pre.processingdata_bayes(dataset,testset)\n"
   ]
  },
  {
   "cell_type": "code",
   "execution_count": 3,
   "metadata": {},
   "outputs": [],
   "source": [
    "from sklearn.feature_extraction.text import TfidfTransformer\n",
    "from sklearn.feature_extraction.text import CountVectorizer\n",
    "from sklearn.feature_extraction.text import TfidfVectorizer"
   ]
  },
  {
   "cell_type": "code",
   "execution_count": 4,
   "metadata": {},
   "outputs": [],
   "source": [
    "vectorizer=CountVectorizer()\n",
    "transformer=TfidfTransformer()\n",
    "tfidf_vec=TfidfVectorizer()"
   ]
  },
  {
   "cell_type": "code",
   "execution_count": 5,
   "metadata": {},
   "outputs": [],
   "source": [
    "tfidf_matrix_train=tfidf_vec.fit_transform(dataset_str)\n",
    "tfidf_matrix_test=tfidf_vec.transform(testset_str)"
   ]
  },
  {
   "cell_type": "code",
   "execution_count": 6,
   "metadata": {},
   "outputs": [],
   "source": [
    "from sklearn.metrics import accuracy_score\n",
    "from sklearn.naive_bayes import MultinomialNB\n",
    "from sklearn.model_selection import train_test_split\n",
    "from sklearn.metrics import confusion_matrix\n",
    "import numpy as np"
   ]
  },
  {
   "cell_type": "code",
   "execution_count": 7,
   "metadata": {},
   "outputs": [
    {
     "name": "stdout",
     "output_type": "stream",
     "text": [
      "模型准确率为:0.8762772991384492\n"
     ]
    }
   ],
   "source": [
    "xtrain,xtest,ytrain,ytest=train_test_split(tfidf_matrix_train,labelset)\n",
    "model=MultinomialNB()\n",
    "model.fit(xtrain,ytrain)\n",
    "ypred=model.predict(xtest)\n",
    "ytest=np.array(ytest)\n",
    "ypred=np.array(ypred)\n",
    "print(f\"模型准确率为:\"+str(accuracy_score(ytest,ypred)))"
   ]
  },
  {
   "cell_type": "code",
   "execution_count": 10,
   "metadata": {},
   "outputs": [
    {
     "name": "stdout",
     "output_type": "stream",
     "text": [
      "Fact-checkAccuracy Is 87.63%\n"
     ]
    },
    {
     "data": {
      "image/png": "[encoded data removed]",
      "text/plain": [
       "<Figure size 432x288 with 1 Axes>"
      ]
     },
     "metadata": {},
     "output_type": "display_data"
    }
   ],
   "source": [
    "import matplotlib.pyplot as plt\n",
    "factcheckscore = accuracy_score(ytest,ypred)\n",
    "print(f'Fact-checkAccuracy Is {round(factcheckscore * 100, 2)}%')\n",
    "\n",
    "y = np.array([round(factcheckscore * 100, 2), 100 - round(factcheckscore * 100, 2)])\n",
    "fig = plt.figure()\n",
    "# 设置背景色\n",
    "rect = fig.patch\n",
    "rect.set_facecolor('white')\n",
    "# 绘制百分比结果图\n",
    "plt.pie(y,\n",
    "        labels=['Predict success', 'Predict failed'],\n",
    "        colors=[\"#d5695d\", \"#5d8ca8\"],\n",
    "        autopct='%.2f%%',\n",
    "        )\n",
    "plt.title(\"Predict the outcome\")\n",
    "plt.show()"
   ]
  },
  {
   "cell_type": "code",
   "execution_count": 8,
   "metadata": {},
   "outputs": [],
   "source": [
    "test_pred=model.predict(tfidf_matrix_test)\n",
    "np.savetxt('.//result//result_bayes.txt',test_pred,fmt='%d',delimiter='\\n');"
   ]
  }
 ],
 "metadata": {
  "kernelspec": {
   "display_name": "Python 3.10.5 64-bit",
   "language": "python",
   "name": "python3"
  },
  "language_info": {
   "codemirror_mode": {
    "name": "ipython",
    "version": 3
   },
   "file_extension": ".py",
   "mimetype": "text/x-python",
   "name": "python",
   "nbconvert_exporter": "python",
   "pygments_lexer": "ipython3",
   "version": "3.10.5"
  },
  "orig_nbformat": 4,
  "vscode": {
   "interpreter": {
    "hash": "5ef6a10b06f64bf4654163366d25e6d0bc53c237413322fdb1cc6fe887f35173"
   }
  }
 },
 "nbformat": 4,
 "nbformat_minor": 2
}
